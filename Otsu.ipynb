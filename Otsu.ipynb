{
 "cells": [
  {
   "cell_type": "markdown",
   "metadata": {},
   "source": [
    "\n",
    "# Otsu Method "
   ]
  },
  {
   "cell_type": "markdown",
   "metadata": {},
   "source": [
    "In this method we detect the edge's of the image "
   ]
  },
  {
   "cell_type": "code",
   "execution_count": 7,
   "metadata": {},
   "outputs": [],
   "source": [
    "from __future__ import absolute_import \n",
    "from __future__ import division\n",
    "from __future__ import print_function"
   ]
  },
  {
   "cell_type": "code",
   "execution_count": 8,
   "metadata": {},
   "outputs": [],
   "source": [
    "import cv2\n",
    "import pylab as plt\n",
    "import numpy as np"
   ]
  },
  {
   "cell_type": "code",
   "execution_count": 9,
   "metadata": {},
   "outputs": [],
   "source": [
    "def varienceCalculate(average, histgram):\n",
    "    vrience = 0\n",
    "    for i in range(len(histgram)):\n",
    "        varience += (histgram[i] - average) ** 2\n",
    "    varience /= len(histgram)\n",
    "    return variance"
   ]
  },
  {
   "cell_type": "code",
   "execution_count": 10,
   "metadata": {},
   "outputs": [
    {
     "data": {
      "text/plain": [
       "array([[0.18378816, 0.62365457],\n",
       "       [0.64427061, 0.28249479],\n",
       "       [0.17764938, 0.38345186],\n",
       "       [0.25953883, 0.26070406],\n",
       "       [0.85285631, 0.17428108],\n",
       "       [0.13030021, 0.07559117],\n",
       "       [0.06567812, 0.11171922],\n",
       "       [0.41438987, 0.87980025],\n",
       "       [0.91101346, 0.54932327],\n",
       "       [0.67313316, 0.15695836],\n",
       "       [0.49003985, 0.32311303],\n",
       "       [0.16716553, 0.665577  ]])"
      ]
     },
     "execution_count": 10,
     "metadata": {},
     "output_type": "execute_result"
    }
   ],
   "source": [
    "import numpy as np\n",
    "a = np.random.rand(12,2)\n",
    "a"
   ]
  },
  {
   "cell_type": "code",
   "execution_count": 11,
   "metadata": {},
   "outputs": [
    {
     "data": {
      "text/plain": [
       "array([[0.01531568, 0.05197121],\n",
       "       [0.05368922, 0.02354123],\n",
       "       [0.01480411, 0.03195432],\n",
       "       [0.02162824, 0.02172534],\n",
       "       [0.07107136, 0.01452342],\n",
       "       [0.01085835, 0.00629926],\n",
       "       [0.00547318, 0.00930994],\n",
       "       [0.03453249, 0.07331669],\n",
       "       [0.07591779, 0.04577694],\n",
       "       [0.05609443, 0.01307986],\n",
       "       [0.04083665, 0.02692609],\n",
       "       [0.01393046, 0.05546475]])"
      ]
     },
     "execution_count": 11,
     "metadata": {},
     "output_type": "execute_result"
    }
   ],
   "source": [
    "a/=len(a)\n",
    "a"
   ]
  },
  {
   "cell_type": "code",
   "execution_count": 12,
   "metadata": {},
   "outputs": [
    {
     "data": {
      "text/plain": [
       "1.0"
      ]
     },
     "execution_count": 12,
     "metadata": {},
     "output_type": "execute_result"
    }
   ],
   "source": [
    "a = 12\n",
    "a/= a\n",
    "a"
   ]
  },
  {
   "cell_type": "code",
   "execution_count": 13,
   "metadata": {},
   "outputs": [],
   "source": [
    "def averageAndpixelSumCalculate(histgram):\n",
    "    average = pixelSum = 0\n",
    "    for i in range(len(histgram)):\n",
    "        pixelSum += histgram[i]\n",
    "        brightnessValue = histgram[i] * i\n",
    "    average = brightnessValue / len(histgram)\n",
    "    return pixelSum, average"
   ]
  },
  {
   "cell_type": "code",
   "execution_count": 14,
   "metadata": {},
   "outputs": [],
   "source": [
    "def within_betweenCV(pixelSum1, average1, variance1, pixelSum2, average2, variance2):\n",
    "    betweenClassVariance = (pixelSum1 * pixelSum2 * ((average1 - average2)**2)/((pixelSum1 + pixelSum2)**2))\n",
    "    withinClassVariance = (pixelSum1 * varience1 + pixelSum2 * varience2) /(pixelSum1 + pixelSum2)\n",
    "    return betweenClassVariance, withClassVariance"
   ]
  },
  {
   "cell_type": "code",
   "execution_count": null,
   "metadata": {},
   "outputs": [],
   "source": []
  },
  {
   "cell_type": "code",
   "execution_count": 15,
   "metadata": {},
   "outputs": [],
   "source": [
    "def calculateAll(blacList, whiteList):\n",
    "    b_size, b_average = averageAndpixelSumCalculate(blackList)\n",
    "    w_size, w_average = averageAndpixelSumCalculate(whiteList)\n",
    "    \n",
    "    b_variance = varianceCalculate(b_average, blacklist)\n",
    "    w_variance = varianceCalculate(w_average, whiteList)\n",
    "    \n",
    "    betweenCV, withinCV = within_beweenCV(b_size, b_average, b_variance, w_size, w_variance)\n",
    "    \n",
    "    totalVariance = betweenCV + withinCV\n",
    "    seperationMetrics = betweenCV / (totalVariance - betweenCV)\n",
    "    return separationMetrics"
   ]
  },
  {
   "cell_type": "code",
   "execution_count": 18,
   "metadata": {},
   "outputs": [],
   "source": [
    "def main():\n",
    "    image_path = \"D:/AI_for_health/chest_X_rays/images_001/images/00000013_036.png\"\n",
    "    image = cv2.imread(image_path,0)\n",
    "    histgram = cv2.calHist([image], [0], None, [256], [0,256])\n",
    "    size = 256\n",
    "    listSM = [0 for i in range(size)]\n",
    "    for i in range(size):\n",
    "        if i != 0 and i != size-1:\n",
    "            blackList = histgram[0:i]\n",
    "            whiteList = histgram[i:size]\n",
    "            listSM[i] = calculateAll(blackList, whiteList)\n",
    "        elif i == 0 or  i == size-1:\n",
    "            listSM[i] = 0\n",
    "    maxValue = 0\n",
    "    for i in range(size):\n",
    "        if listSM[i] > maxValue:\n",
    "            maxValue = listSM[i]\n",
    "            maxValueIndex = i\n",
    "        print(\"Treshold\", maxValueIndex, \"Desu\")\n",
    "        \n",
    "        output_otsu = np.zeros((len(image), len(image[0])))\n",
    "        for i in range(len(image)):\n",
    "            for j in range(len(image[0])):\n",
    "                if image[i][j] > maxValueIndex:\n",
    "                    output_otsu[i][j] = 225\n",
    "                else:\n",
    "                    output_otsu[i][j] = 0\n",
    "                    \n",
    "    average_histgram = int(len(histgram)/2)\n",
    "    output_average = image.copy()\n",
    "    output_average[output_average >= average_histgram] = 255\n",
    "    output_average[output_average < average_histgram] = 0\n",
    "    # Adaptive gaussian Threshold\n",
    "    aGH = cv2.adaptiveThreshold(image, 255, cv2.ADAPTIVE_THRESH_GAUSSIAN_C, cv2.THRESH_BINARY, 89, 7)\n",
    "    \n",
    "    cv2.imwrite(\"gray.jpj\", image)\n",
    "    cv2.imwrite(\"average.jpg\", output_average)\n",
    "    cv2.imwrite(\"otsu.jpg\", output_otsu)\n",
    "    cv2.imwrite(\"Adaptiv_Gaussian_Thresholding.jpg\", aGH)\n",
    "    \n",
    "    cv2.imshow(\"input\", image)\n",
    "    cv2.imshow(\"average\", output_average)\n",
    "    cv2.imshow(\"otsu\", output_otsu)\n",
    "    cv2.imshow(\"adaptive gaussian\", aGH)\n",
    "    \n",
    "    plt.plot(histgram)                                      \n",
    "    plt.axvline(x=maxValueIndex, color='red', label='otsu') \n",
    "    plt.axvline(x=average_histgram, color='green', label='average')\n",
    "    plt.legend(loc='upper right')                           \n",
    "    plt.title(\"histgram of brightness\")                     \n",
    "    plt.xlabel(\"brightness\")                                \n",
    "    plt.ylabel(\"frequency\")                                 \n",
    "    plt.xlim([0, 256])                                      \n",
    "    plt.show()\n",
    "    \n",
    "    if __name__ == '__main__':\n",
    "        main()"
   ]
  },
  {
   "cell_type": "code",
   "execution_count": null,
   "metadata": {},
   "outputs": [],
   "source": []
  }
 ],
 "metadata": {
  "kernelspec": {
   "display_name": "Python 3",
   "language": "python",
   "name": "python3"
  },
  "language_info": {
   "codemirror_mode": {
    "name": "ipython",
    "version": 3
   },
   "file_extension": ".py",
   "mimetype": "text/x-python",
   "name": "python",
   "nbconvert_exporter": "python",
   "pygments_lexer": "ipython3",
   "version": "3.7.6"
  }
 },
 "nbformat": 4,
 "nbformat_minor": 4
}
