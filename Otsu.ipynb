{
 "cells": [
  {
   "cell_type": "markdown",
   "metadata": {},
   "source": [
    "\n",
    "# Otsu Method "
   ]
  },
  {
   "cell_type": "markdown",
   "metadata": {},
   "source": [
    "In this method we detect the edge's of the image "
   ]
  },
  {
   "cell_type": "code",
   "execution_count": 11,
   "metadata": {},
   "outputs": [],
   "source": [
    "from __future__ import absolute_import \n",
    "from __future__ import division\n",
    "from __future__ import print_function"
   ]
  },
  {
   "cell_type": "code",
   "execution_count": 12,
   "metadata": {},
   "outputs": [],
   "source": [
    "import cv2\n",
    "import pylab as plt\n",
    "import numpy as np"
   ]
  },
  {
   "cell_type": "code",
   "execution_count": 13,
   "metadata": {},
   "outputs": [],
   "source": [
    "def varienceCalculate(average, histgram):\n",
    "    vrience = 0\n",
    "    for i in range(len(histgram)):\n",
    "        varience += (histgram[i] - average) ** 2\n",
    "    varience /= len(histgram)\n",
    "    return variance"
   ]
  },
  {
   "cell_type": "code",
   "execution_count": 2,
   "metadata": {},
   "outputs": [
    {
     "data": {
      "text/plain": [
       "array([[0.8849601 , 0.95143583],\n",
       "       [0.66930872, 0.53470112],\n",
       "       [0.07457593, 0.17111031],\n",
       "       [0.71012886, 0.83723317],\n",
       "       [0.06955176, 0.48981681],\n",
       "       [0.77557906, 0.01588467],\n",
       "       [0.169802  , 0.17057183],\n",
       "       [0.05091569, 0.13757776],\n",
       "       [0.39084971, 0.48733396],\n",
       "       [0.29387811, 0.17515667],\n",
       "       [0.36457179, 0.39511912],\n",
       "       [0.13044492, 0.96868589]])"
      ]
     },
     "execution_count": 2,
     "metadata": {},
     "output_type": "execute_result"
    }
   ],
   "source": [
    "import numpy as np\n",
    "a = np.random.rand(12,2)\n",
    "a"
   ]
  },
  {
   "cell_type": "code",
   "execution_count": 15,
   "metadata": {},
   "outputs": [
    {
     "data": {
      "text/plain": [
       "array([[0.0638758 , 0.04047314],\n",
       "       [0.08319931, 0.07233665],\n",
       "       [0.03146999, 0.05385992],\n",
       "       [0.0711082 , 0.01559239],\n",
       "       [0.0327321 , 0.03210233],\n",
       "       [0.07521494, 0.07254533],\n",
       "       [0.05296038, 0.01805167],\n",
       "       [0.07064814, 0.06108527],\n",
       "       [0.0663469 , 0.01037247],\n",
       "       [0.05507742, 0.06767994],\n",
       "       [0.0113735 , 0.01970784],\n",
       "       [0.0139283 , 0.07147995]])"
      ]
     },
     "execution_count": 15,
     "metadata": {},
     "output_type": "execute_result"
    }
   ],
   "source": [
    "a/=len(a)\n",
    "a"
   ]
  },
  {
   "cell_type": "code",
   "execution_count": 16,
   "metadata": {},
   "outputs": [
    {
     "data": {
      "text/plain": [
       "1.0"
      ]
     },
     "execution_count": 16,
     "metadata": {},
     "output_type": "execute_result"
    }
   ],
   "source": [
    "a = 12\n",
    "a/= a\n",
    "a"
   ]
  },
  {
   "cell_type": "code",
   "execution_count": 17,
   "metadata": {},
   "outputs": [],
   "source": [
    "def averageAndpixelSumCalculate(histgram):\n",
    "    average = pixelSum = 0\n",
    "    for i in range(len(histgram)):\n",
    "        pixelSum += histgram[i]\n",
    "        brightnessValue = histgram[i] * i\n",
    "    average = brightnessValue / len(histgram)\n",
    "    return pixelSum, average"
   ]
  },
  {
   "cell_type": "code",
   "execution_count": 18,
   "metadata": {},
   "outputs": [],
   "source": [
    "def within_betweenCV(pixelSum1, average1, variance1, pixelSum2, average2, variance2):\n",
    "    betweenClassVariance = (pixelSum1 * pixelSum2 * ((average1 - average2)**2)/((pixelSum1 + pixelSum2)**2))\n",
    "    withinClassVariance = (pixelSum1 * varience1 + pixelSum2 * varience2) /(pixelSum1 + pixelSum2)\n",
    "    return betweenClassVariance, withClassVariance"
   ]
  },
  {
   "cell_type": "code",
   "execution_count": null,
   "metadata": {},
   "outputs": [],
   "source": []
  },
  {
   "cell_type": "code",
   "execution_count": 19,
   "metadata": {},
   "outputs": [],
   "source": [
    "def calculateAll(blacList, whiteList):\n",
    "    b_size, b_average = averageAndpixelSumCalculate(blackList)\n",
    "    w_size, w_average = averageAndpixelSumCalculate(whiteList)\n",
    "    \n",
    "    b_variance = varianceCalculate(b_average, blacklist)\n",
    "    w_variance = varianceCalculate(w_average, whiteList)\n",
    "    \n",
    "    betweenCV, withinCV = within_beweenCV(b_size, b_average, b_variance, w_size, w_variance)\n",
    "    \n",
    "    totalVariance = betweenCV + withinCV\n",
    "    seperationMetrics = betweenCV / (totalVariance - betweenCV)\n",
    "    return separationMetrics"
   ]
  },
  {
   "cell_type": "code",
   "execution_count": 20,
   "metadata": {},
   "outputs": [],
   "source": [
    "def main():\n",
    "    image_path = \"D:/AI_for_health/chest_X_rays/images_001/images/00000013_036.png\"\n",
    "    image = cv2.imread(image_path,0)\n",
    "    histgram = cv2.calHist([image], [0], None, [256], [0,256])\n",
    "    size = 256\n",
    "    listSM = [0 for i in range(size)]\n",
    "    for i in range(size):\n",
    "        if i != 0 and i != size-1:\n",
    "            blackList = histgram[0:i]\n",
    "            whiteList = histgram[i:size]\n",
    "            listSM[i] = calculateAll(blackList, whiteList)\n",
    "        elif i == 0 or  i == size-1:\n",
    "            listSM[i] = 0\n",
    "    maxValue = 0\n",
    "    for i in range(size):\n",
    "        if listSM[i] > maxValue:\n",
    "            maxValue = listSM[i]\n",
    "            maxValueIndex = i\n",
    "        print(\"Treshold\", maxValueIndex, \"Desu\")\n",
    "        \n",
    "        output_otsu = np.zeros((len(image), len(image[0])))\n",
    "        for i in range(len(image)):\n",
    "            for j in range(len(image[0])):\n",
    "                if image[i][j] > maxValueIndex:\n",
    "                    output_otsu[i][j] = 225\n",
    "                else:\n",
    "                    output_otsu[i][j] = 0\n",
    "                    \n",
    "    average_histgram = int(len(histgram)/2)\n",
    "    output_average = image.copy()\n",
    "    output_average[output_average >= average_histgram] = 255\n",
    "    output_average[output_average < average_histgram] = 0\n",
    "    # Adaptive gaussian Threshold\n",
    "    aGH = cv2.adaptiveThreshold(image, 255, cv2.ADAPTIVE_THRESH_GAUSSIAN_C, cv2.THRESH_BINARY, 89, 7)\n",
    "    \n",
    "    cv2.imwrite(\"gray.jpj\", image)\n",
    "    cv2.imwrite(\"average.jpg\", output_average)\n",
    "    cv2.imwrite(\"otsu.jpg\", output_otsu)\n",
    "    cv2.imwrite(\"Adaptiv_Gaussian_Thresholding.jpg\", aGH)\n",
    "    \n",
    "    cv2.imshow(\"input\", image)\n",
    "    cv2.imshow(\"average\", output_average)\n",
    "    cv2.imshow(\"otsu\", output_otsu)\n",
    "    cv2.imshow(\"adaptive gaussian\", aGH)\n",
    "    \n",
    "    plt.plot(histgram)                                      \n",
    "    plt.axvline(x=maxValueIndex, color='red', label='otsu') \n",
    "    plt.axvline(x=average_histgram, color='green', label='average')\n",
    "    plt.legend(loc='upper right')                           \n",
    "    plt.title(\"histgram of brightness\")                     \n",
    "    plt.xlabel(\"brightness\")                                \n",
    "    plt.ylabel(\"frequency\")                                 \n",
    "    plt.xlim([0, 256])                                      \n",
    "    plt.show()\n",
    "    \n",
    "    if __name__ == '__main__':\n",
    "        main()"
   ]
  },
  {
   "cell_type": "code",
   "execution_count": null,
   "metadata": {},
   "outputs": [],
   "source": []
  }
 ],
 "metadata": {
  "kernelspec": {
   "display_name": "Python 3",
   "language": "python",
   "name": "python3"
  },
  "language_info": {
   "codemirror_mode": {
    "name": "ipython",
    "version": 3
   },
   "file_extension": ".py",
   "mimetype": "text/x-python",
   "name": "python",
   "nbconvert_exporter": "python",
   "pygments_lexer": "ipython3",
   "version": "3.7.6"
  }
 },
 "nbformat": 4,
 "nbformat_minor": 4
}
